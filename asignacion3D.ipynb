{
  "cells": [
    {
      "cell_type": "markdown",
      "metadata": {
        "id": "NQmPwZogCJaN"
      },
      "source": [
        "# Cuaderno Jupyter realizado por Eduardo J. Barrios"
      ]
    },
    {
      "cell_type": "markdown",
      "metadata": {
        "id": "6ew60wXrZM0W"
      },
      "source": [
        "La primera celda ejecutable de este cuaderno está intensionadamente escrita para que puedas usar este cuaderno con código [Julia](https://julialang.org/) en  [Google Colab](https://colab.research.google.com/?hl=es).\n",
        "\n"
      ]
    },
    {
      "cell_type": "markdown",
      "metadata": {
        "id": "tQ1r1bbb0yBv"
      },
      "source": [
        "\n",
        "\n",
        "## Instructions\n",
        "1. Work on a copy of this notebook: _File_ > _Save a copy in Drive_ (you will need a Google account). Alternatively, you can download the notebook using _File_ > _Download .ipynb_, then upload it to [Colab](https://colab.research.google.com/).\n",
        "2. If you need a GPU: _Runtime_ > _Change runtime type_ > _Harware accelerator_ = _GPU_.\n",
        "3. Execute the following cell (click on it and press Ctrl+Enter) to install Julia, IJulia and other packages (if needed, update `JULIA_VERSION` and the other parameters). This takes a couple of minutes.\n",
        "4. Reload this page (press Ctrl+R, or ⌘+R, or the F5 key) and continue to the next section.\n",
        "\n",
        "_Notes_:\n",
        "* If your Colab Runtime gets reset (e.g., due to inactivity), repeat steps 2, 3 and 4.\n",
        "* After installation, if you want to change the Julia version or activate/deactivate the GPU, you will need to reset the Runtime: _Runtime_ > _Factory reset runtime_ and repeat steps 3 and 4."
      ]
    },
    {
      "cell_type": "code",
      "execution_count": null,
      "metadata": {
        "colab": {
          "base_uri": "https://localhost:8080/",
          "height": 87
        },
        "id": "GIeFXS0F0zww",
        "outputId": "b9b968b7-ec3b-4726-a203-5ee39a83cd16"
      },
      "outputs": [
        {
          "data": {
            "text/latex": [
              "Unrecognized magic \\texttt{\\%\\%shell}.\n",
              "\n",
              "Julia does not use the IPython \\texttt{\\%magic} syntax.   To interact with the IJulia kernel, use \\texttt{IJulia.somefunction(...)}, for example.  Julia macros, string macros, and functions can be used to accomplish most of the other functionalities of IPython magics.\n",
              "\n"
            ],
            "text/markdown": [
              "Unrecognized magic `%%shell`.\n",
              "\n",
              "Julia does not use the IPython `%magic` syntax.   To interact with the IJulia kernel, use `IJulia.somefunction(...)`, for example.  Julia macros, string macros, and functions can be used to accomplish most of the other functionalities of IPython magics.\n"
            ],
            "text/plain": [
              "  Unrecognized magic \u001b[36m%%shell\u001b[39m.\n",
              "\n",
              "  Julia does not use the IPython \u001b[36m%magic\u001b[39m syntax. To interact with the IJulia\n",
              "  kernel, use \u001b[36mIJulia.somefunction(...)\u001b[39m, for example. Julia macros, string\n",
              "  macros, and functions can be used to accomplish most of the other\n",
              "  functionalities of IPython magics."
            ]
          },
          "metadata": {},
          "output_type": "display_data"
        }
      ],
      "source": [
        "%%shell\n",
        "set -e\n",
        "\n",
        "#---------------------------------------------------#\n",
        "JULIA_VERSION=\"1.8.2\" # any version ≥ 0.7.0\n",
        "JULIA_PACKAGES=\"IJulia BenchmarkTools\"\n",
        "JULIA_PACKAGES_IF_GPU=\"CUDA\" # or CuArrays for older Julia versions\n",
        "JULIA_NUM_THREADS=2\n",
        "#---------------------------------------------------#\n",
        "\n",
        "if [ -z `which julia` ]; then\n",
        "  # Install Julia\n",
        "  JULIA_VER=`cut -d '.' -f -2 <<< \"$JULIA_VERSION\"`\n",
        "  echo \"Installing Julia $JULIA_VERSION on the current Colab Runtime...\"\n",
        "  BASE_URL=\"https://julialang-s3.julialang.org/bin/linux/x64\"\n",
        "  URL=\"$BASE_URL/$JULIA_VER/julia-$JULIA_VERSION-linux-x86_64.tar.gz\"\n",
        "  wget -nv $URL -O /tmp/julia.tar.gz # -nv means \"not verbose\"\n",
        "  tar -x -f /tmp/julia.tar.gz -C /usr/local --strip-components 1\n",
        "  rm /tmp/julia.tar.gz\n",
        "\n",
        "  # Install Packages\n",
        "  nvidia-smi -L &> /dev/null && export GPU=1 || export GPU=0\n",
        "  if [ $GPU -eq 1 ]; then\n",
        "    JULIA_PACKAGES=\"$JULIA_PACKAGES $JULIA_PACKAGES_IF_GPU\"\n",
        "  fi\n",
        "  for PKG in `echo $JULIA_PACKAGES`; do\n",
        "    echo \"Installing Julia package $PKG...\"\n",
        "    julia -e 'using Pkg; pkg\"add '$PKG'; precompile;\"' &> /dev/null\n",
        "  done\n",
        "\n",
        "  # Install kernel and rename it to \"julia\"\n",
        "  echo \"Installing IJulia kernel...\"\n",
        "  julia -e 'using IJulia; IJulia.installkernel(\"julia\", env=Dict(\n",
        "      \"JULIA_NUM_THREADS\"=>\"'\"$JULIA_NUM_THREADS\"'\"))'\n",
        "  KERNEL_DIR=`julia -e \"using IJulia; print(IJulia.kerneldir())\"`\n",
        "  KERNEL_NAME=`ls -d \"$KERNEL_DIR\"/julia*`\n",
        "  mv -f $KERNEL_NAME \"$KERNEL_DIR\"/julia\n",
        "\n",
        "  echo ''\n",
        "  echo \"Successfully installed `julia -v`!\"\n",
        "  echo \"Please reload this page (press Ctrl+R, ⌘+R, or the F5 key) then\"\n",
        "  echo \"jump to the 'Checking the Installation' section.\"\n",
        "fi"
      ]
    },
    {
      "cell_type": "markdown",
      "metadata": {
        "id": "-OS3Ac017T1i"
      },
      "source": [
        "# Checking the Installation\n",
        "The `versioninfo()` function should print your Julia version and some other info about the system:"
      ]
    },
    {
      "cell_type": "code",
      "execution_count": null,
      "metadata": {
        "colab": {
          "base_uri": "https://localhost:8080/"
        },
        "id": "EEzvvzCl1i0F",
        "outputId": "8baf4c02-e910-43a3-9b7a-90781a22a570"
      },
      "outputs": [
        {
          "name": "stdout",
          "output_type": "stream",
          "text": [
            "Julia Version 1.8.2\n",
            "Commit 36034abf260 (2022-09-29 15:21 UTC)\n",
            "Platform Info:\n",
            "  OS: Linux (x86_64-linux-gnu)\n",
            "  CPU: 2 × Intel(R) Xeon(R) CPU @ 2.20GHz\n",
            "  WORD_SIZE: 64\n",
            "  LIBM: libopenlibm\n",
            "  LLVM: libLLVM-13.0.1 (ORCJIT, broadwell)\n",
            "  Threads: 2 on 2 virtual cores\n",
            "Environment:\n",
            "  LD_LIBRARY_PATH = /usr/local/nvidia/lib:/usr/local/nvidia/lib64\n",
            "  JULIA_NUM_THREADS = 2\n"
          ]
        }
      ],
      "source": [
        "versioninfo()"
      ]
    },
    {
      "cell_type": "markdown",
      "metadata": {
        "id": "4lYGZ0lUnwiW"
      },
      "source": [
        "Ponemos a mano los elementos de los paquetes instalados"
      ]
    },
    {
      "cell_type": "code",
      "execution_count": 2,
      "metadata": {
        "colab": {
          "base_uri": "https://localhost:8080/"
        },
        "id": "njaLb143n5s9",
        "outputId": "224fbfc7-edf1-448f-e5ed-dfefba24f722"
      },
      "outputs": [
        {
          "name": "stderr",
          "output_type": "stream",
          "text": [
            "\u001b[32m\u001b[1m   Resolving\u001b[22m\u001b[39m package versions...\n",
            "\u001b[32m\u001b[1m  No Changes\u001b[22m\u001b[39m to `~/.julia/environments/v1.9/Project.toml`\n",
            "\u001b[32m\u001b[1m  No Changes\u001b[22m\u001b[39m to `~/.julia/environments/v1.9/Manifest.toml`\n",
            "\u001b[32m\u001b[1m   Resolving\u001b[22m\u001b[39m package versions...\n",
            "\u001b[32m\u001b[1m  No Changes\u001b[22m\u001b[39m to `~/.julia/environments/v1.9/Project.toml`\n",
            "\u001b[32m\u001b[1m  No Changes\u001b[22m\u001b[39m to `~/.julia/environments/v1.9/Manifest.toml`\n"
          ]
        }
      ],
      "source": [
        "import Pkg\n",
        "Pkg.add(\"JuMP\")\n",
        "Pkg.add(\"GLPK\")\n",
        "using JuMP, GLPK, Random, Test"
      ]
    },
    {
      "cell_type": "markdown",
      "metadata": {
        "id": "GnSoOX6btmkh"
      },
      "source": [
        "# Introducción\n",
        "\n"
      ]
    },
    {
      "cell_type": "markdown",
      "metadata": {
        "id": "5hMze5_FZmNu"
      },
      "source": [
        "\n",
        "Este cuaderno Jupyter ha sido desarrollado por Eduardo José Barrios García para la asignatura de Ingeniería Logística. El objetivo del cuaderno es abordar problemas de asignación 3-dimensional, tanto planar como axial. Se han utilizado modelos matemáticos previamente expuestos en el cuaderno de Google Colab del profesor, pero con modificaciones para aportar un enfoque único.\n",
        "\n",
        "Este cuaderno muestra cómo se pueden resolver problemas de asignación 3-dimensional utilizando modelos matemáticos y el lenguaje de programación Julia. Se espera que este cuaderno sirva como una valiosa referencia para futuras investigaciones y aplicaciones prácticas.\n",
        "\n",
        "\n",
        "\n",
        "\n"
      ]
    },
    {
      "cell_type": "markdown",
      "metadata": {
        "id": "hvteKiLQc_YG"
      },
      "source": [
        "# Problemas de asignación\n",
        " Para empezar a proceder con los problemas de asignación,deberemos dar algunas consideraciones previas antes, la primera de ellas, será añadir Gurubi para su realización:"
      ]
    },
    {
      "cell_type": "code",
      "execution_count": null,
      "metadata": {
        "id": "xUHk2nhOScBK"
      },
      "outputs": [],
      "source": [
        "using Gurobi"
      ]
    },
    {
      "cell_type": "markdown",
      "metadata": {
        "id": "JbH_yt2nzxfx"
      },
      "source": [
        "## Problema de asignación 3-dimensional\n",
        "\n",
        "### Introducción a los Problemas 3D\n",
        "Los problemas de asignación en tres dimensiones (3D) son una extensión natural de los problemas de asignación en dos dimensiones (2D). En estos problemas, no solo se consideran variables en el plano cartesiano (x, y), sino que también se introduce una tercera dimensión (z). Esto puede tener aplicaciones en áreas como la logística, donde se deben asignar recursos en un espacio tridimensional, como un almacén.\n",
        "\n",
        "### Consideraciones Específicas\n",
        "- Complejidad Computacional: Resolver problemas en 3D generalmente implica un mayor costo computacional que en 2D debido al aumento en la cantidad de variables y restricciones.\n",
        "\n",
        "- Representación Geométrica: La visualización de soluciones es más compleja. Herramientas de visualización en 3D pueden ser necesarias para entender completamente el problema y sus soluciones.\n",
        "\n",
        "- Restricciones Adicionales: Puede haber restricciones adicionales relacionadas con la tercera dimensión, como limitaciones de altura o profundidad.\n",
        "\n",
        "- Precisión en los Datos: La precisión requerida para las coordenadas en 3D es generalmente más alta, lo que puede requerir más datos y, posiblemente, sensores más precisos para capturar estos datos.\n",
        "\n",
        "- Optimización Multiobjetivo: En muchos casos, podría haber múltiples objetivos a optimizar, como el costo, el tiempo y el uso del espacio, lo que complica aún más el problema.\n",
        "\n",
        "### Ejemplo de Código en Julia para Problema 3D\n",
        "A continuación se presenta un simple ejemplo en Julia que se extiende a 3 dimensiones. Añadiendo primeramente que paquetes vamos a usar:\n",
        "\n"
      ]
    },
    {
      "cell_type": "code",
      "execution_count": null,
      "metadata": {
        "id": "0-Vl-vSt1Oet"
      },
      "outputs": [],
      "source": [
        "using Pkg\n",
        "Pkg.add(\"JuMP\")\n",
        "Pkg.add(\"GLPK\")"
      ]
    },
    {
      "cell_type": "markdown",
      "metadata": {
        "id": "Ci-fbn8g1p3S"
      },
      "source": [
        "Una vez intaladas, como hicimos en la parte de arriba, desarrollaamos el modelo:"
      ]
    },
    {
      "cell_type": "code",
      "execution_count": null,
      "metadata": {
        "id": "n0-sgzeK14o_"
      },
      "outputs": [],
      "source": [
        "using JuMP\n",
        "using GLPK\n",
        "\n",
        "# Crear el modelo\n",
        "model_3D = Model(GLPK.Optimizer)\n",
        "\n",
        "# Definir variables de decisión\n",
        "@variable(model_3D, x >= 0)\n",
        "@variable(model_3D, y >= 0)\n",
        "@variable(model_3D, z >= 0)\n",
        "\n",
        "# Agregar restricciones\n",
        "@constraint(model_3D, x + y + z <= 12)\n",
        "@constraint(model_3D, x + 2y <= 10)\n",
        "@constraint(model_3D, 2x + z <= 8)\n",
        "\n",
        "# Establecer la función objetivo\n",
        "@objective(model_3D, Max, 3x + 4y + 2z)\n",
        "\n",
        "# Resolver el modelo\n",
        "optimize!(model_3D)\n",
        "\n",
        "# Mostrar los resultados\n",
        "println(\"Estado de la solución: \", termination_status(model_3D))\n",
        "println(\"Valor objetivo óptimo: \", objective_value(model_3D))\n",
        "println(\"Valor óptimo de x: \", value(x))\n",
        "println(\"Valor óptimo de y: \", value(y))\n",
        "println(\"Valor óptimo de z: \", value(z))"
      ]
    },
    {
      "cell_type": "markdown",
      "metadata": {
        "id": "6pJhJJwM0vZD"
      },
      "source": [
        "Consideremos ahora $n$ profesores, $n$ asignaturas, y $n$ aulas. Asumamos conocer el coste $c_{ijk}$ de colocar al profesor $i$ impartiendo la asignatura $j$ en el aula $k$. Obviamente queremos que cada profesor imparta una asignatura única en un aula única. Igualmente queremos que cada asignatura la imparta un profesor en algún aula, y que cada aula tenga a un profesor impartiendo una asignatura. Se busca la asignación con menor coste total.\n",
        "\n",
        "He procedido a cambiar el prblema propuesto por el profesor, usando el mismo fondo del problema, pero haciendo toda su estructura más legible."
      ]
    },
    {
      "cell_type": "code",
      "execution_count": null,
      "metadata": {
        "id": "rlMPQpoH3H4K"
      },
      "outputs": [],
      "source": [
        "using Random  # Importar el módulo Random para utilizar funciones de generación de números aleatorios\n",
        "\n",
        "N = 7  # Cambiado a 7: número de profesores, cursos y salones\n",
        "Random.seed!(5678)  # Semilla para obtener diferentes números aleatorios\n",
        "\n",
        "# Generar una matriz tridimensional de \"precios\" aleatorios\n",
        "# Las dimensiones son N x N x N, representando, por ejemplo, Profesores x Cursos x Salones\n",
        "# Los precios son números aleatorios entre 10 y 110\n",
        "prices = rand(10:110, N, N, N)\n",
        "\n"
      ]
    },
    {
      "cell_type": "markdown",
      "metadata": {
        "id": "ppoN8wxH33sG"
      },
      "source": [
        "ste es un modelo de optimización para un problema de asignación en un contexto educativo, pero que puede adaptarse a diversos escenarios. Imaginemos que tenemos NumEntities profesores, NumEntities cursos y NumEntities aulas. El objetivo es asignar a cada profesor exactamente un curso y una aula de manera que minimicemos un \"costo\" total asociado a esas asignaciones.\n",
        "\n",
        "La variable assignmentMatrix[profIndex, courseIndex, roomIndex] es una variable binaria tridimensional. Tomará el valor de 1 si el profesor identificado con profIndex se asigna al curso identificado con courseIndex en la aula identificada con roomIndex. De lo contrario, su valor será 0.\n",
        "\n",
        "La matriz cost tiene los \"costos\" asociados con asignar el profesor profIndex al curso courseIndex en el aula roomIndex. Este costo puede representar distintas métricas según el contexto: distancia, tiempo, recursos, entre otros.\n",
        "\n",
        "Las restricciones del modelo aseguran tres cosas importantes:\n",
        "\n",
        "Cada profesor (profIndex) se asigna a un solo curso y una sola aula.\n",
        "Cada curso (courseIndex) tiene exactamente un profesor y se lleva a cabo en una sola aula.\n",
        "En cada aula (roomIndex) se realiza exactamente un curso con un solo profesor.\n",
        "Finalmente, la función objetivo busca minimizar el costo total de todas las asignaciones posibles, considerando las restricciones anteriores."
      ]
    },
    {
      "cell_type": "code",
      "execution_count": null,
      "metadata": {
        "id": "k8oohvjG1C8R",
        "outputId": "bda562f2-1a37-4fd1-c0cf-156bccd3c975"
      },
      "outputs": [
        {
          "name": "stdout",
          "output_type": "stream",
          "text": [
            "Set parameter Username\r\n",
            "Academic license - for non-commercial use only - expires 2023-10-23\r\n",
            "Min 68 x[1,1,1] + 48 x[2,1,1] + 2 x[3,1,1] + 88 x[4,1,1] + 10 x[1,2,1] + 17 x[2,2,1] + 83 x[3,2,1] + 51 x[4,2,1] + 86 x[1,3,1] + 39 x[2,3,1] + 80 x[3,3,1] + 19 x[4,3,1] + 75 x[1,4,1] + 51 x[2,4,1] + 86 x[3,4,1] + 19 x[4,4,1] + 68 x[1,1,2] + 48 x[2,1,2] + 2 x[3,1,2] + 88 x[4,1,2] + 10 x[1,2,2] + 17 x[2,2,2] + 83 x[3,2,2] + 51 x[4,2,2] + 86 x[1,3,2] + 39 x[2,3,2] + 80 x[3,3,2] + 19 x[4,3,2] + 75 x[1,4,2] + 51 x[2,4,2] + 86 x[3,4,2] + 19 x[4,4,2] + 68 x[1,1,3] + 48 x[2,1,3] + 2 x[3,1,3] + 88 x[4,1,3] + 10 x[1,2,3] + 17 x[2,2,3] + 83 x[3,2,3] + 51 x[4,2,3] + 86 x[1,3,3] + 39 x[2,3,3] + 80 x[3,3,3] + 19 x[4,3,3] + 75 x[1,4,3] + 51 x[2,4,3] + 86 x[3,4,3] + 19 x[4,4,3] + 68 x[1,1,4] + 48 x[2,1,4] + 2 x[3,1,4] + 88 x[4,1,4] + 10 x[1,2,4] + 17 x[2,2,4] + 83 x[3,2,4] + 51 x[4,2,4] + 86 x[1,3,4] + 39 x[2,3,4] + 80 x[3,3,4] + 19 x[4,3,4] + 75 x[1,4,4] + 51 x[2,4,4] + 86 x[3,4,4] + 19 x[4,4,4]\n",
            "Subject to\n"
          ]
        },
        {
          "name": "stdout",
          "output_type": "stream",
          "text": [
            " p[1] : x[1,1,1] + x[1,2,1] + x[1,3,1] + x[1,4,1] + x[1,1,2] + x[1,2,2] + x[1,3,2] + x[1,4,2] + x[1,1,3] + x[1,2,3] + x[1,3,3] + x[1,4,3] + x[1,1,4] + x[1,2,4] + x[1,3,4] + x[1,4,4] == 1.0\n",
            " p[2] : x[2,1,1] + x[2,2,1] + x[2,3,1] + x[2,4,1] + x[2,1,2] + x[2,2,2] + x[2,3,2] + x[2,4,2] + x[2,1,3] + x[2,2,3] + x[2,3,3] + x[2,4,3] + x[2,1,4] + x[2,2,4] + x[2,3,4] + x[2,4,4] == 1.0\n",
            " p[3] : x[3,1,1] + x[3,2,1] + x[3,3,1] + x[3,4,1] + x[3,1,2] + x[3,2,2] + x[3,3,2] + x[3,4,2] + x[3,1,3] + x[3,2,3] + x[3,3,3] + x[3,4,3] + x[3,1,4] + x[3,2,4] + x[3,3,4] + x[3,4,4] == 1.0\n",
            " p[4] : x[4,1,1] + x[4,2,1] + x[4,3,1] + x[4,4,1] + x[4,1,2] + x[4,2,2] + x[4,3,2] + x[4,4,2] + x[4,1,3] + x[4,2,3] + x[4,3,3] + x[4,4,3] + x[4,1,4] + x[4,2,4] + x[4,3,4] + x[4,4,4] == 1.0\n",
            " c[1] : x[1,1,1] + x[2,1,1] + x[3,1,1] + x[4,1,1] + x[1,1,2] + x[2,1,2] + x[3,1,2] + x[4,1,2] + x[1,1,3] + x[2,1,3] + x[3,1,3] + x[4,1,3] + x[1,1,4] + x[2,1,4] + x[3,1,4] + x[4,1,4] == 1.0\n",
            " c[2] : x[1,2,1] + x[2,2,1] + x[3,2,1] + x[4,2,1] + x[1,2,2] + x[2,2,2] + x[3,2,2] + x[4,2,2] + x[1,2,3] + x[2,2,3] + x[3,2,3] + x[4,2,3] + x[1,2,4] + x[2,2,4] + x[3,2,4] + x[4,2,4] == 1.0\n",
            " c[3] : x[1,3,1] + x[2,3,1] + x[3,3,1] + x[4,3,1] + x[1,3,2] + x[2,3,2] + x[3,3,2] + x[4,3,2] + x[1,3,3] + x[2,3,3] + x[3,3,3] + x[4,3,3] + x[1,3,4] + x[2,3,4] + x[3,3,4] + x[4,3,4] == 1.0\n",
            " c[4] : x[1,4,1] + x[2,4,1] + x[3,4,1] + x[4,4,1] + x[1,4,2] + x[2,4,2] + x[3,4,2] + x[4,4,2] + x[1,4,3] + x[2,4,3] + x[3,4,3] + x[4,4,3] + x[1,4,4] + x[2,4,4] + x[3,4,4] + x[4,4,4] == 1.0\n",
            " r[1] : x[1,1,1] + x[2,1,1] + x[3,1,1] + x[4,1,1] + x[1,2,1] + x[2,2,1] + x[3,2,1] + x[4,2,1] + x[1,3,1] + x[2,3,1] + x[3,3,1] + x[4,3,1] + x[1,4,1] + x[2,4,1] + x[3,4,1] + x[4,4,1] == 1.0\n",
            " r[2] : x[1,1,2] + x[2,1,2] + x[3,1,2] + x[4,1,2] + x[1,2,2] + x[2,2,2] + x[3,2,2] + x[4,2,2] + x[1,3,2] + x[2,3,2] + x[3,3,2] + x[4,3,2] + x[1,4,2] + x[2,4,2] + x[3,4,2] + x[4,4,2] == 1.0\n",
            " r[3] : x[1,1,3] + x[2,1,3] + x[3,1,3] + x[4,1,3] + x[1,2,3] + x[2,2,3] + x[3,2,3] + x[4,2,3] + x[1,3,3] + x[2,3,3] + x[3,3,3] + x[4,3,3] + x[1,4,3] + x[2,4,3] + x[3,4,3] + x[4,4,3] == 1.0\n",
            " r[4] : x[1,1,4] + x[2,1,4] + x[3,1,4] + x[4,1,4] + x[1,2,4] + x[2,2,4] + x[3,2,4] + x[4,2,4] + x[1,3,4] + x[2,3,4] + x[3,3,4] + x[4,3,4] + x[1,4,4] + x[2,4,4] + x[3,4,4] + x[4,4,4] == 1.0\n",
            " x[1,1,1] binary\n",
            " x[2,1,1] binary\n",
            " x[3,1,1] binary\n",
            " x[4,1,1] binary\n",
            " x[1,2,1] binary\n",
            " x[2,2,1] binary\n",
            " x[3,2,1] binary\n",
            " x[4,2,1] binary\n",
            " x[1,3,1] binary\n",
            " x[2,3,1] binary\n",
            " x[3,3,1] binary\n",
            " x[4,3,1] binary\n",
            " x[1,4,1] binary\n",
            " x[2,4,1] binary\n",
            " x[3,4,1] binary\n",
            " x[4,4,1] binary\n",
            " x[1,1,2] binary\n",
            " x[2,1,2] binary\n",
            " x[3,1,2] binary\n",
            " x[4,1,2] binary\n",
            " x[1,2,2] binary\n",
            " x[2,2,2] binary\n",
            " x[3,2,2] binary\n",
            " x[4,2,2] binary\n",
            " x[1,3,2] binary\n",
            " x[2,3,2] binary\n",
            " x[3,3,2] binary\n",
            " x[4,3,2] binary\n",
            " x[1,4,2] binary\n",
            " x[2,4,2] binary\n",
            " x[3,4,2] binary\n",
            " x[4,4,2] binary\n",
            " x[1,1,3] binary\n",
            " x[2,1,3] binary\n",
            " x[3,1,3] binary\n",
            " x[4,1,3] binary\n",
            " x[1,2,3] binary\n",
            " x[2,2,3] binary\n",
            " x[3,2,3] binary\n",
            " x[4,2,3] binary\n",
            " x[1,3,3] binary\n",
            " x[2,3,3] binary\n",
            " x[3,3,3] binary\n",
            " x[4,3,3] binary\n",
            " x[1,4,3] binary\n",
            " x[2,4,3] binary\n",
            " x[3,4,3] binary\n",
            " x[4,4,3] binary\n",
            " x[1,1,4] binary\n",
            " x[2,1,4] binary\n",
            " x[3,1,4] binary\n",
            " x[4,1,4] binary\n",
            " x[1,2,4] binary\n",
            " x[2,2,4] binary\n",
            " x[3,2,4] binary\n",
            " x[4,2,4] binary\n",
            " x[1,3,4] binary\n",
            " x[2,3,4] binary\n",
            " x[3,3,4] binary\n",
            " x[4,3,4] binary\n",
            " x[1,4,4] binary\n",
            " x[2,4,4] binary\n",
            " x[3,4,4] binary\n",
            " x[4,4,4] binary\n",
            "\n"
          ]
        }
      ],
      "source": [
        "using Gurobi  # Importar el módulo Gurobi para optimización\n",
        "using JuMP  # Importar el módulo JuMP para modelado matemático\n",
        "\n",
        "NumEntities = 7  # Número de profesores, cursos y aulas\n",
        "\n",
        "# Crear un nuevo modelo de optimización utilizando Gurobi como optimizador\n",
        "optimizationModel = Model(Gurobi.Optimizer)\n",
        "\n",
        "# Silenciar la salida del optimizador para evitar imprimir mensajes en la consola\n",
        "set_silent(optimizationModel)\n",
        "\n",
        "# Definir la variable de decisión 'assignmentMatrix'. Es una variable binaria tridimensional de tamaño NumEntities x NumEntities x NumEntities\n",
        "@variable(optimizationModel, assignmentMatrix[1:NumEntities, 1:NumEntities, 1:NumEntities], Bin)\n",
        "\n",
        "# Establecer la función objetivo para minimizar el costo total.\n",
        "@objective(optimizationModel, Min, sum(cost .* assignmentMatrix))\n",
        "\n",
        "# Restricciones para asegurar que cada profesor (profIndex) se asigne a un solo curso y aula.\n",
        "@constraint(optimizationModel, prof[profIndex=1:NumEntities], sum(assignmentMatrix[profIndex, :, :]) == 1)\n",
        "\n",
        "# Restricciones para asegurar que cada curso (courseIndex) tenga un solo profesor y se realice en una sola aula.\n",
        "@constraint(optimizationModel, course[courseIndex=1:NumEntities], sum(assignmentMatrix[:, courseIndex, :]) == 1)\n",
        "\n",
        "# Restricciones para asegurar que cada aula (roomIndex) tenga un solo curso y profesor.\n",
        "@constraint(optimizationModel, room[roomIndex=1:NumEntities], sum(assignmentMatrix[:, :, roomIndex]) == 1)\n",
        "\n",
        "# Imprimir el modelo para verificar que se ha configurado correctamente\n",
        "println(optimizationModel)\n"
      ]
    },
    {
      "cell_type": "markdown",
      "metadata": {
        "id": "qZIRbtFm5iLS"
      },
      "source": [
        "Este bloque de código realiza la optimización del modelo que hemos definido previamente, es decir, encuentra la asignación óptima de profesores a cursos y aulas que minimiza el costo total.\n",
        "\n",
        "optimize!(model): Esta función resuelve el modelo, ajustando las variables para minimizar el costo total de acuerdo con las restricciones.\n",
        "\n",
        "@show termination_status(model): Muestra el estado de la optimización, indicando si el proceso fue exitoso, si hubo problemas, etc.\n",
        "\n",
        "println(\"Total: \", objective_value(model)): Imprime el valor mínimo del costo total que se ha alcanzado con la asignación óptima.\n",
        "\n",
        "El ciclo for: Itera a través de todas las combinaciones posibles de profesores (i), cursos (j) y aulas (k) para determinar qué asignaciones se han hecho. Si el valor de la variable x[i, j, k] es mayor que 0.5, se considera que el profesor i ha sido asignado al curso j en el aula k, y esto se imprime en la consola.\n",
        "\n",
        "Esta version del prblema se llama axial."
      ]
    },
    {
      "cell_type": "code",
      "execution_count": null,
      "metadata": {
        "colab": {
          "base_uri": "https://localhost:8080/"
        },
        "id": "dzWY0_kGg6eV",
        "outputId": "9b21b82b-2d5d-462b-b492-28500777a60d"
      },
      "outputs": [
        {
          "name": "stdout",
          "output_type": "stream",
          "text": [
            "termination_status(model) = MathOptInterface.OPTIMAL\n",
            "Total: 70.0\n",
            " professor 1 assigned to course 2 at room 2\n",
            " professor 2 assigned to course 3 at room 1\n"
          ]
        },
        {
          "name": "stdout",
          "output_type": "stream",
          "text": [
            " professor 3 assigned to course 1 at room 3\n",
            " professor 4 assigned to course 4 at room 4\n"
          ]
        }
      ],
      "source": [
        "# Resolver el modelo de optimización para asignar profesores, cursos y aulas\n",
        "optimize!(model)\n",
        "\n",
        "# Verificar el estado final de la optimización\n",
        "@show termination_status(model)\n",
        "\n",
        "# Imprimir el costo total mínimo que el optimizador encontró\n",
        "println(\"Costo Total: \", objective_value(model))\n",
        "\n",
        "# Iterar para determinar qué asignaciones específicas se han realizado\n",
        "for profesor = 1:N, curso = 1:N, aula = 1:N\n",
        "    # Si la asignación es efectiva, se imprime\n",
        "    if value(x[profesor, curso, aula]) > 0.5\n",
        "        println(\"Profesor $profesor asignado al curso $curso en el aula $aula\")\n",
        "    end\n",
        "end\n"
      ]
    },
    {
      "cell_type": "markdown",
      "metadata": {
        "id": "3H5TgFPt28dB"
      },
      "source": [
        "Este bloque de código se encarga de resolver el modelo de optimización para la asignación de profesores a cursos y aulas, de forma que minimice el costo total. A continuación, detallo cada componente:\n",
        "\n",
        "optimize!(model): Esta función se encarga de resolver el modelo de optimización. Esto significa que busca la combinación de asignaciones que minimice el costo total, respetando las restricciones impuestas.\n",
        "\n",
        "@show termination_status(model): Muestra el estado final del proceso de optimización, lo cual es útil para entender si el modelo encontró una solución óptima o si hubo algún problema en el proceso.\n",
        "\n",
        "println(\"Costo Total: \", objective_value(model)): Imprime el valor de la función objetivo, que en este contexto representa el costo total mínimo alcanzado con las asignaciones óptimas.\n",
        "\n",
        "El bucle for: Este ciclo iterativo recorre todas las combinaciones posibles de profesor, curso y aula para identificar qué asignaciones se han hecho. Si el valor de la variable x[profesor, curso, aula] es mayor que 0.5, se considera que la asignación es efectiva y se imprime en la consola."
      ]
    },
    {
      "cell_type": "code",
      "execution_count": null,
      "metadata": {
        "colab": {
          "base_uri": "https://localhost:8080/"
        },
        "id": "SYt0qwLc3Nff",
        "outputId": "c3814d08-e106-4d30-a7de-89ee2c8b31ee"
      },
      "outputs": [
        {
          "name": "stdout",
          "output_type": "stream",
          "text": [
            "Set parameter Username\r\n",
            "Academic license - for non-commercial use only - expires 2023-10-23\r\n"
          ]
        },
        {
          "data": {
            "text/plain": [
              "4×4 Matrix{ConstraintRef{Model, MathOptInterface.ConstraintIndex{MathOptInterface.ScalarAffineFunction{Float64}, MathOptInterface.EqualTo{Float64}}, ScalarShape}}:\n",
              " r[1,1] : x[1,1,1] + x[2,1,1] + x[3,1,1] + x[4,1,1] == 1.0  …  r[1,4] : x[1,1,4] + x[2,1,4] + x[3,1,4] + x[4,1,4] == 1.0\n",
              " r[2,1] : x[1,2,1] + x[2,2,1] + x[3,2,1] + x[4,2,1] == 1.0     r[2,4] : x[1,2,4] + x[2,2,4] + x[3,2,4] + x[4,2,4] == 1.0\n",
              " r[3,1] : x[1,3,1] + x[2,3,1] + x[3,3,1] + x[4,3,1] == 1.0     r[3,4] : x[1,3,4] + x[2,3,4] + x[3,3,4] + x[4,3,4] == 1.0\n",
              " r[4,1] : x[1,4,1] + x[2,4,1] + x[3,4,1] + x[4,4,1] == 1.0     r[4,4] : x[1,4,4] + x[2,4,4] + x[3,4,4] + x[4,4,4] == 1.0"
            ]
          },
          "metadata": {},
          "output_type": "display_data"
        }
      ],
      "source": [
        "using Gurobi  # Importar el módulo Gurobi para optimización\n",
        "using JuMP  # Importar el módulo JuMP para modelado matemático\n",
        "\n",
        "NumElementos = 7  # Número de elementos en cada dimensión (podría representar profesores, cursos y aulas)\n",
        "\n",
        "# Crear un nuevo modelo de optimización usando Gurobi como optimizador\n",
        "model = Model(Gurobi.Optimizer)\n",
        "\n",
        "# Definir la variable de decisión 'asignacion'. Es una variable binaria tridimensional de tamaño NumElementos x NumElementos x NumElementos\n",
        "@variable(model, asignacion[1:NumElementos, 1:NumElementos, 1:NumElementos], Bin)\n",
        "\n",
        "# Definir la función objetivo para minimizar el costo total\n",
        "@objective(model, Min, sum(cost .* asignacion))\n",
        "\n",
        "# Restricciones para asegurar que cada combinación de profesor y curso se asigne a una sola aula\n",
        "@constraint(model, ProfesorCurso[prof=1:NumElementos, curso=1:NumElementos], sum(asignacion[prof, curso, :]) == 1)\n",
        "\n",
        "# Restricciones para asegurar que cada combinación de profesor y aula tenga un solo curso\n",
        "@constraint(model, ProfesorAula[prof=1:NumElementos, aula=1:NumElementos], sum(asignacion[prof, :, aula]) == 1)\n",
        "\n",
        "# Restricciones para asegurar que cada combinación de curso y aula tenga un solo profesor\n",
        "@constraint(model, CursoAula[curso=1:NumElementos, aula=1:NumElementos], sum(asignacion[:, curso, aula]) == 1)\n",
        "\n",
        "# Imprimir el modelo para verificar que se ha configurado correctamente\n",
        "println(model)\n"
      ]
    },
    {
      "cell_type": "markdown",
      "metadata": {
        "id": "AS5EVzZ46wi5"
      },
      "source": [
        "Este es un modelo de optimización para un problema de asignación tridimensional. Supongamos que tenemos un número NumElementos de profesores, cursos, y aulas. Queremos asignar cada profesor a un curso y una aula de tal manera que minimicemos un \"costo\" total, que podría estar relacionado con la distancia entre las aulas, la afinidad del profesor con el curso, etc.\n",
        "\n",
        "La variable asignacion[prof, curso, aula] es una variable binaria que será igual a 1 si el \"profesor prof\" está asignado al \"curso curso\" en la \"aula aula\", y 0 en caso contrario.\n",
        "\n",
        "La matriz cost contiene los \"costos\" asociados con asignar el \"profesor prof\" al \"curso curso\" en la \"aula aula\".\n",
        "\n",
        "Las restricciones garantizan que cada profesor se asigne a exactamente un curso y una aula, que cada curso tenga exactamente un profesor y se realice en un aula, y que en cada aula se realice exactamente un curso con un solo profesor.\n",
        "\n",
        "La función objetivo busca minimizar el costo total de esta asignación.\n"
      ]
    },
    {
      "cell_type": "code",
      "execution_count": null,
      "metadata": {
        "colab": {
          "base_uri": "https://localhost:8080/"
        },
        "id": "KxHQatoSg_nM",
        "outputId": "d4d1f016-b4d8-40c0-8e43-a9416c1a6b1a"
      },
      "outputs": [
        {
          "name": "stdout",
          "output_type": "stream",
          "text": [
            "Gurobi Optimizer version 9.5.2 build v9.5.2rc0 (win64)\r\n",
            "Thread count: 2 physical cores, 4 logical processors, using up to 4 threads\r\n",
            "Optimize a model with 48 rows, 64 columns and 192 nonzeros\r\n",
            "Model fingerprint: 0x7c52da2d\r\n",
            "Variable types: 0 continuous, 64 integer (64 binary)\r\n",
            "Coefficient statistics:\r\n",
            "  Matrix range     [1e+00, 1e+00]\r\n",
            "  Objective range  [7e+00, 1e+02]\r\n",
            "  Bounds range     [0e+00, 0e+00]\r\n",
            "  RHS range        [1e+00, 1e+00]\r\n",
            "Found heuristic solution: objective 936.0000000\r\n",
            "Presolve time: 0.00s\r\n",
            "Presolved: 48 rows, 64 columns, 192 nonzeros\r\n",
            "Variable types: 0 continuous, 64 integer (64 binary)\r\n",
            "\r\n",
            "Root relaxation: objective 6.240000e+02, 39 iterations, 0.00 seconds (0.00 work units)\r\n",
            "\r\n",
            "    Nodes    |    Current Node    |     Objective Bounds      |     Work\r\n",
            " Expl Unexpl |  Obj  Depth IntInf | Incumbent    BestBd   Gap | It/Node Time\r\n",
            "\r\n",
            "*    0     0               0     624.0000000  624.00000  0.00%     -    0s\r\n",
            "\r\n",
            "Explored 1 nodes (39 simplex iterations) in 0.01 seconds (0.00 work units)\r\n",
            "Thread count was 4 (of 4 available processors)\r\n",
            "\r\n",
            "Solution count 2: 624 936 \r\n",
            "\r\n",
            "Optimal solution found (tolerance 1.00e-04)\r\n",
            "Best objective 6.240000000000e+02, best bound 6.240000000000e+02, gap 0.0000%\r\n",
            "\r\n",
            "User-callback calls 128, time in user-callback 0.00 sec\r\n",
            "termination_status(model) = MathOptInterface.OPTIMAL\n",
            "Total: 624.0\n",
            "Decision variables: [-0.0 -0.0 1.0 0.0; -0.0 0.0 -0.0 1.0; 1.0 0.0 -0.0 -0.0; 0.0 1.0 -0.0 -0.0;;;"
          ]
        },
        {
          "name": "stdout",
          "output_type": "stream",
          "text": [
            " -0.0 1.0 0.0 -0.0; 1.0 -0.0 0.0 -0.0; -0.0 -0.0 1.0 0.0; 0.0 -0.0 -0.0 1.0;;; 1.0 -0.0 -0.0 -0.0; -0.0 1.0 0.0 -0.0; -0.0 0.0 -0.0 1.0; 0.0 0.0 1.0 -0.0;;; -0.0 0.0 -0.0 1.0; 0.0 -0.0 1.0 0.0; 0.0 1.0 -0.0 0.0; 1.0 -0.0 0.0 0.0]\n"
          ]
        },
        {
          "name": "stdout",
          "output_type": "stream",
          "text": [
            "  (1,1,3)  (1,2,2)  (1,3,1)  (1,4,4)  (2,1,2)  (2,2,3)  (2,3,4)  (2,4,1)  (3,1,1)  (3,2,4)  (3,3,2)  (3,4,3)  (4,1,4)  (4,2,1)  (4,3,3)  (4,4,2)"
          ]
        }
      ],
      "source": [
        "# Resolver el modelo de optimización. Esto ajusta las variables 'asignacion' para minimizar la función objetivo\n",
        "# sujeto a las restricciones dadas.\n",
        "optimize!(model)\n",
        "\n",
        "# Mostrar el estado de terminación del modelo para saber si la optimización fue exitosa o no\n",
        "@show termination_status(model)\n",
        "\n",
        "# Imprimir el valor de la función objetivo, es decir, el costo total mínimo alcanzado\n",
        "println(\"Costo Total Minimizado: \", objective_value(model))\n",
        "\n",
        "# Imprimir los valores de las variables de decisión\n",
        "println(\"Variables de Decisión: \", value.(asignacion))\n",
        "\n",
        "# Iterar a través de todas las combinaciones de profesores (prof), cursos (curso), y aulas (aula)\n",
        "# para encontrar qué asignaciones han sido realizadas por el optimizador.\n",
        "for prof = 1:NumElementos, curso = 1:NumElementos, aula = 1:NumElementos\n",
        "    # Si la variable 'asignacion[prof, curso, aula]' tiene un valor mayor que 0.5,\n",
        "    # entonces la asignación es efectiva y se imprime.\n",
        "    if value(asignacion[prof, curso, aula]) > 0.5\n",
        "        println(\"Profesor $prof asignado al curso $curso en la aula $aula\")\n",
        "    end\n",
        "end\n"
      ]
    },
    {
      "cell_type": "markdown",
      "metadata": {
        "id": "yD6O9q-uAvAv"
      },
      "source": [
        "Este segmento de código resuelve el modelo de optimización que hemos definido previamente. Utiliza la función optimize!() para encontrar la combinación de asignaciones que minimiza el \"costo\" total, sujeto a las restricciones impuestas.\n",
        "\n",
        "La línea @show termination_status(model) imprime el estado del modelo después de la optimización para verificar si la solución se ha encontrado exitosamente.\n",
        "\n",
        "Posteriormente, el programa imprime el \"Costo Total Minimizado\", que es el valor de la función objetivo una vez que el modelo ha sido optimizado. Este valor representa el costo total mínimo que se puede alcanzar con las asignaciones óptimas.\n",
        "\n",
        "Finalmente, el bucle for al final del código itera a través de todas las combinaciones posibles de \"profesores\", \"cursos\", y \"aulas\" para determinar qué asignaciones se han hecho. Las asignaciones efectivas (donde la variable asignacion[prof, curso, aula] es mayor a 0.5) se imprimen en la consola."
      ]
    },
    {
      "cell_type": "markdown",
      "metadata": {},
      "source": [
        "Una vez visto los modelos 3-dimensional, vamos a pasar a desarrollar los moedelos:"
      ]
    },
    {
      "cell_type": "markdown",
      "metadata": {},
      "source": [
        "## Modelo de forma axial\n",
        "\n",
        "#### Representamos el modelo de forma axial:\n",
        "\n",
        "\n",
        "\\begin{align*}\n",
        "\\min \\sum_{i \\in I} \\sum_{j \\in J} \\sum_{k \\in K} c_{ij}  x_{ij} & \\text{Minimizar la función objetivo (Costo total)} \\\\\n",
        "\\text{s.t.:} & \\text{Sujeto a las siguientes restricciones:} \\\\\n",
        "& \\sum_{i \\in I} \\sum_{j \\in J} x_{ijk} = 1   &  \\forall k \\in K  \\quad \\text{Comentario 1: Cada elemento de K se asigna exactamente una vez} \\\\\n",
        "& \\sum_{j \\in J} \\sum_{k \\in K} x_{ijk} = 1   &  \\forall i \\in I  \\quad \\text{Comentario 2: Cada elemento de I se asigna exactamente una vez} \\\\\n",
        "& \\sum_{i \\in I} \\sum_{k \\in K} x_{ijk} = 1   &  \\forall j \\in J  \\quad \\text{Comentario 3: Cada elemento de J se asigna exactamente una vez} \\\\\n",
        "& x_{ijk} \\in \\{ 0,1 \\}                       & \\forall i \\in I,  j \\in J,  k \\in K  \\quad \\text{Comentario 4: Variables binarias (Asignación)} \\\\\n",
        "\\end{align*}\n"
      ]
    },
    {
      "cell_type": "markdown",
      "metadata": {},
      "source": [
        "## Código en Julia para el modelo"
      ]
    },
    {
      "cell_type": "code",
      "execution_count": 6,
      "metadata": {},
      "outputs": [
        {
          "name": "stdout",
          "output_type": "stream",
          "text": [
            "Solución óptima encontrada:\n",
            "Asignaciones para k =1\n",
            "x[2, 3, 1] = 1.0\n",
            "Asignaciones para k =2\n",
            "x[3, 1, 2] = 1.0\n",
            "Asignaciones para k =3\n",
            "x[1, 2, 3] = 1.0\n"
          ]
        }
      ],
      "source": [
        "using JuMP\n",
        "using GLPK\n",
        "\n",
        "# Conjuntos de índices\n",
        "I = 1:3\n",
        "J = 1:3\n",
        "K = 1:3\n",
        "\n",
        "# Costos de asignación\n",
        "c = [5 2 7\n",
        "     3 1 4\n",
        "     6 8 9]\n",
        "\n",
        "# Crear el modelo de optimización\n",
        "model = Model(optimizer_with_attributes(GLPK.Optimizer, \"msg_lev\" => GLPK.GLP_MSG_OFF))\n",
        "\n",
        "# Variables binarias que indican las asignaciones\n",
        "@variable(model, x[i in I, j in J, k in K], Bin)\n",
        "\n",
        "# Función objetivo: Minimizar el costo total\n",
        "@objective(model, Min, sum(c[i, j] * x[i, j, k] for i in I, j in J, k in K))\n",
        "\n",
        "# Restricciones: Cada elemento de K se asigna exactamente una vez\n",
        "@constraint(model, [k in K], sum(x[i, j, k] for i in I, j in J) == 1)\n",
        "\n",
        "# Restricciones: Cada elemento de I se asigna exactamente una vez\n",
        "@constraint(model, [i in I], sum(x[i, j, k] for j in J, k in K) == 1)\n",
        "\n",
        "# Restricciones: Cada elemento de J se asigna exactamente una vez\n",
        "@constraint(model, [j in J], sum(x[i, j, k] for i in I, k in K) == 1)\n",
        "\n",
        "# Resolver el modelo\n",
        "optimize!(model)\n",
        "\n",
        "# Verificar el estado de la solución\n",
        "if termination_status(model) == MOI.OPTIMAL\n",
        "    println(\"Solución óptima encontrada:\")\n",
        "    for k in K\n",
        "        println(\"Asignaciones para k =\", k)\n",
        "        for i in I\n",
        "            for j in J\n",
        "                if value(x[i, j, k]) > 0.5\n",
        "                    println(\"x[$i, $j, $k] = \", value(x[i, j, k]))\n",
        "                end\n",
        "            end\n",
        "        end\n",
        "    end\n",
        "else\n",
        "    println(\"No se encontró una solución óptima.\")\n",
        "end\n"
      ]
    },
    {
      "cell_type": "markdown",
      "metadata": {},
      "source": [
        "## Modelo de forma planar\n",
        "\n",
        "#### Representamos el modelo de forma planar:\n",
        "\n",
        "\n",
        "\\begin{align*}\n",
        "\\min \\sum_{i \\in I} \\sum_{j \\in J} \\sum_{k \\in K} c_{ij}  x_{ij} & \\text{Minimizar la función objetivo (Costo total)} \\\\\n",
        "\\text{s.t.:} & \\text{Sujeto a las siguientes restricciones:} \\\\\n",
        "& \\sum_{k \\in K} x_{ijk} = 1   &  \\forall i \\in I, \\forall j \\in J  \\quad \\text{Comentario 1: Cada (i, j) se asigna exactamente a un k} \\\\\n",
        "& \\sum_{i \\in I} x_{ijk} = 1   &  \\forall j \\in J, \\forall k \\in K  \\quad \\text{Comentario 2: Cada (j, k) se asigna exactamente a un i} \\\\\n",
        "& \\sum_{j \\in J} x_{ijk} = 1   &  \\forall i \\in I, \\forall k \\in K  \\quad \\text{Comentario 3: Cada (i, k) se asigna exactamente a un j} \\\\\n",
        "& x_{ijk} \\in \\{ 0,1 \\}                       & \\forall i \\in I,  j \\in J,  k \\in K  \\quad \\text{Comentario 4: Variables binarias (Asignación)} \\\\\n",
        "\\end{align*}\n"
      ]
    },
    {
      "cell_type": "markdown",
      "metadata": {},
      "source": [
        "## Código en Julia"
      ]
    },
    {
      "cell_type": "code",
      "execution_count": 7,
      "metadata": {},
      "outputs": [
        {
          "name": "stdout",
          "output_type": "stream",
          "text": [
            "Solución óptima encontrada:\n",
            "Asignaciones para k =1\n",
            "x[1, 1, 1] = 1.0\n",
            "x[2, 3, 1] = 1.0\n",
            "x[3, 2, 1] = 1.0\n",
            "Asignaciones para k =2\n",
            "x[1, 2, 2] = 1.0\n",
            "x[2, 1, 2] = 1.0\n",
            "x[3, 3, 2] = 1.0\n",
            "Asignaciones para k =3\n",
            "x[1, 3, 3] = 1.0\n",
            "x[2, 2, 3] = 1.0\n",
            "x[3, 1, 3] = 1.0\n"
          ]
        }
      ],
      "source": [
        "using JuMP\n",
        "using GLPK\n",
        "\n",
        "# Conjuntos de índices\n",
        "I = 1:3\n",
        "J = 1:3\n",
        "K = 1:3\n",
        "\n",
        "# Costos de asignación\n",
        "c = [5 2 7\n",
        "     3 1 4\n",
        "     6 8 9]\n",
        "\n",
        "# Crear el modelo de optimización\n",
        "model = Model(optimizer_with_attributes(GLPK.Optimizer, \"msg_lev\" => GLPK.GLP_MSG_OFF))\n",
        "\n",
        "# Variables binarias que indican las asignaciones\n",
        "@variable(model, x[i in I, j in J, k in K], Bin)\n",
        "\n",
        "# Función objetivo: Minimizar el costo total\n",
        "@objective(model, Min, sum(c[i, j] * x[i, j, k] for i in I, j in J, k in K))\n",
        "\n",
        "# Restricciones: Cada elemento de I se asigna exactamente una vez\n",
        "@constraint(model, [i in I, j in J], sum(x[i, j, k] for k in K) == 1)\n",
        "\n",
        "# Restricciones: Cada elemento de J se asigna exactamente una vez\n",
        "@constraint(model, [j in J, k in K], sum(x[i, j, k] for i in I) == 1)\n",
        "\n",
        "# Restricciones: Cada elemento de K se asigna exactamente una vez\n",
        "@constraint(model, [i in I, k in K], sum(x[i, j, k] for j in J) == 1)\n",
        "\n",
        "# Resolver el modelo\n",
        "optimize!(model)\n",
        "\n",
        "# Verificar el estado de la solución\n",
        "if termination_status(model) == MOI.OPTIMAL\n",
        "    println(\"Solución óptima encontrada:\")\n",
        "    for k in K\n",
        "        println(\"Asignaciones para k =\", k)\n",
        "        for i in I\n",
        "            for j in J\n",
        "                if value(x[i, j, k]) > 0.5\n",
        "                    println(\"x[$i, $j, $k] = \", value(x[i, j, k]))\n",
        "                end\n",
        "            end\n",
        "        end\n",
        "    end\n",
        "else\n",
        "    println(\"No se encontró una solución óptima.\")\n",
        "end\n"
      ]
    },
    {
      "cell_type": "markdown",
      "metadata": {
        "id": "72F3Oy2o7WI2"
      },
      "source": [
        "\n",
        "# Conclusión y Aplicaciones Prácticas\n",
        "\n",
        "## Resumen de la Implementación\n",
        "A lo largo de este trabajo, hemos implementado un modelo de optimización tridimensional usando programación lineal entera. El modelo utiliza una matriz tridimensional de variables binarias para representar asignaciones a lo largo de tres ejes: \"plano\", \"axial\", y otra dimensión que podríamos llamar \"vertical\". Estos ejes permiten considerar múltiples aspectos en la toma de decisiones, como asignar profesores a cursos y aulas en nuestro caso particular."
      ]
    },
    {
      "cell_type": "markdown",
      "metadata": {
        "id": "9vFP_iiX74A9"
      },
      "source": [
        "#Aplicaciones en Diferentes Ámbitos\n",
        "El potencial del modelo de optimización tridimensional va más allá de la educación y se extiende a diversos campos. A continuación, se presentan algunas áreas en las que este modelo podría tener un impacto significativo:\n",
        "\n",
        "##Logística\n",
        "- Distribución de Mercancías: Podría usarse para asignar camiones a diferentes rutas y horarios, teniendo en cuenta variables como el consumo de combustible, distancia y tiempos de entrega.\n",
        "\n",
        "- Gestanterías podría minimizar el tiempo de recuperación y maximizar el espacio disponible.\n",
        "\n",
        "- Planificación de Flotas: Asignar vehículos a distintas bases o puertos de origen, considerando factores como mantenimiento, disponibilidad y costos operativos.\n",
        "\n",
        "##Salud\n",
        "- Gestión Hospitalaria: Podría ayudar a asignar personal médico, camas y equipos a diferentes departamentos o aulas de un hospital, teniendo en cuenta horarios, especialidades y urgencias.\n",
        "\n",
        "- Optimización de Horarios de Cirugía: Podría utilizarse para asignar quirófanos, equipos médicos y horarios a distintas cirugías, buscando minimizar los tiempos de espera y optimizar el uso de los recursos.\n",
        "\n",
        "- Telemedicina: En una red de atención médica en línea, el modelo podría asignar pacientes a médicos en función de la especialización, disponibilidad y ubicación geográfica.\n",
        "\n",
        "##Industria\n",
        "- Manufactura: Asignar trabajadores a líneas de ensamblaje y máquinas, teniendo en cuenta la experiencia del trabajador, la dificultad de la tarea y las limitaciones de tiempo.\n",
        "\n",
        "- Gestión de la Cadena de Suministro: Asignar proveedores a plantas de fabricación y centros de distribución, considerando factores como costos, calidad y tiempos de entrega.\n",
        "\n",
        "- Optimización Energética: En una planta industrial, asignar diferentes fuentes de energía a maquinaria y procesos, teniendo en cuenta la eficiencia energética y los costos operativos.\n",
        "\n",
        "Cada uno de estos ejemplos muestra cómo un modelo tridimensional de programación lineal entera puede manejar múltiples variables y criterios para ofrecer soluciones más completas y eficientes en una amplia gama de industrias."
      ]
    },
    {
      "cell_type": "markdown",
      "metadata": {
        "id": "YcRPbQe-8w28"
      },
      "source": [
        "# Ventajas de un Modelo Tridimensional\n",
        "- Múltiples Criterios: Permite considerar simultáneamente varios aspectos, mejorando la calidad de la solución.\n",
        "\n",
        "- Flexibilidad: Puede adaptarse fácilmente a cambios en las dimensiones o en el número de categorías.\n",
        "\n",
        "- Eficiencia Computacional: Los optimizadores modernos pueden resolver este tipo de modelos en tiempos razonables incluso para grandes valores de N.\n",
        "\n"
      ]
    },
    {
      "cell_type": "markdown",
      "metadata": {
        "id": "w9K8xpbm9Abz"
      },
      "source": [
        "# Limitaciones y Futuras Líneas de Trabajo\n",
        "##Limitaciones\n",
        "-Calidad de Datos: Uno de los mayores desafíos es la precisión y la calidad de los datos de entrada. Un modelo es tan bueno como los datos en los que se basa. Datos erróneos o incompletos pueden llevar a soluciones subóptimas o incluso inviables.\n",
        "\n",
        "- Escalabilidad: A medida que aumenta el tamaño del problema (por ejemplo, más asignaciones o categorías), la complejidad computacional podría convertirse en un obstáculo.\n",
        "\n",
        "- Adaptabilidad: Cambios en las restricciones o en los objetivos del modelo pueden requerir reajustes significativos en el modelo.\n",
        "\n",
        "- Recursos Computacionales: Algoritmos de optimización más avanzados pueden ser computacionalmente costosos, lo que requiere hardware especializado.\n",
        "\n",
        "##Futuras Líneas de Trabajo\n",
        "Algoritmos Heurísticos: Explorar métodos aproximados que puedan ofrecer soluciones \"suficientemente buenas\" en un tiempo más corto.\n",
        "\n",
        "- Machine Learning: Integrar técnicas de aprendizaje automático para predecir y ajustar dinámicamente los costos y restricciones.\n",
        "\n",
        "-Interfaz de Usuario: Desarrollar una interfaz amigable que permita a los usuarios no técnicos configurar y resolver problemas de asignación de manera más fácil.\n",
        "\n",
        "-Optimización Multiobjetivo: Adaptar el modelo para manejar múltiples objetivos, lo que permitiría una toma de decisiones más completa y equilibrada.\n",
        "\n",
        "##Conclusión Extendida\n",
        "La programación lineal entera tridimensional ofrece un marco robusto y flexible para abordar problemas complejos de asignación en una variedad de campos. Desde la logística y la salud hasta la industria manufacturera, este modelo tiene el potencial de revolucionar la forma en que tomamos decisiones estratégicas y operativas.\n",
        "\n",
        "Sin embargo, es vital tener en cuenta sus limitaciones, especialmente en términos de calidad de datos y escalabilidad. Las futuras líneas de trabajo pueden abordar estas cuestiones a través de la incorporación de algoritmos heurísticos, técnicas de aprendizaje automático y optimización multiobjetivo.\n",
        "\n",
        "Este modelo es una herramienta poderosa, pero su éxito final dependerá de cómo se adapte y se aplique a problemas específicos y de cuán precisos y completos sean los datos en los que se basa. Estamos solo al comienzo de explorar todo su potencial y las oportunidades para mejoras y aplicaciones futuras son abundantes.\n",
        "\n",
        "\n",
        "\n",
        "\n",
        "\n"
      ]
    }
  ],
  "metadata": {
    "colab": {
      "provenance": []
    },
    "gpuClass": "standard",
    "kernelspec": {
      "display_name": "Julia 1.9.4",
      "language": "julia",
      "name": "julia-1.9"
    },
    "language_info": {
      "file_extension": ".jl",
      "mimetype": "application/julia",
      "name": "julia",
      "version": "1.9.4"
    }
  },
  "nbformat": 4,
  "nbformat_minor": 0
}
